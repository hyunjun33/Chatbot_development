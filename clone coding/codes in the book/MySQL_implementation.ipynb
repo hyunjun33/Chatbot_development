{
 "cells": [
  {
   "cell_type": "code",
   "execution_count": 6,
   "id": "13e766ed",
   "metadata": {},
   "outputs": [],
   "source": [
    "import pymysql"
   ]
  },
  {
   "cell_type": "code",
   "execution_count": 13,
   "id": "69be6f70",
   "metadata": {},
   "outputs": [
    {
     "name": "stdout",
     "output_type": "stream",
     "text": [
      "DB 연결 성공\n",
      "DB 연결 닫기 성공\n"
     ]
    }
   ],
   "source": [
    "db = None\n",
    "try:\n",
    "    db = pymysql.connect(host=\"127.0.0.1\", user=\"root\", passwd=\"sinabro\", db=\"chatbot_test\", charset=\"utf8\")\n",
    "    print(\"DB 연결 성공\")\n",
    "except Exception as e:\n",
    "    print(e)\n",
    "    \n",
    "finally:\n",
    "    if db is not None:\n",
    "        db.close()\n",
    "        print(\"DB 연결 닫기 성공\")"
   ]
  },
  {
   "cell_type": "code",
   "execution_count": 15,
   "id": "94fe9726",
   "metadata": {},
   "outputs": [],
   "source": [
    "# 데이터 조작하기\n",
    "db = None\n",
    "try:\n",
    "    db = pymysql.connect(host=\"127.0.0.1\", user=\"root\", passwd=\"sinabro\", db=\"chatbot_test\", charset=\"utf8\")\n",
    "    \n",
    "    # 테이블 생성 sql 정의\n",
    "    sql = \"\"\"\n",
    "    CREATE TABLE tb_student (\n",
    "        id int primary key auto_increment not null,\n",
    "        name varchar(32),\n",
    "        age int,\n",
    "        address varchar(32)\n",
    "    ) ENGINE=InnoDB DEFAULT CHARSET=utf8\"\"\"\n",
    "    \n",
    "    # 테이블 생성\n",
    "    with db.cursor() as cursor:\n",
    "        cursor.execute(sql)\n",
    "    \n",
    "except Exception as e:\n",
    "    print(e)\n",
    "    \n",
    "finally:\n",
    "    if db is not None:\n",
    "        db.close()"
   ]
  },
  {
   "cell_type": "code",
   "execution_count": 16,
   "id": "ab9e1200",
   "metadata": {},
   "outputs": [],
   "source": [
    "# 데이터 삽입\n",
    "db = None\n",
    "try:\n",
    "    db = pymysql.connect(host=\"127.0.0.1\", user=\"root\", passwd=\"sinabro\", db=\"chatbot_test\", charset=\"utf8\")\n",
    "    \n",
    "    # 데이터 삽입 sql 정의\n",
    "    sql = \"\"\"\n",
    "    INSERT tb_student(name, age, address) values(\"Kei\", 35, \"Korea\")\n",
    "    \"\"\"\n",
    "    \n",
    "    # 데이터 삽입\n",
    "    with db.cursor() as cursor:\n",
    "        cursor.execute(sql)\n",
    "    db.commit()\n",
    "\n",
    "except Exception as e:\n",
    "    print(e)\n",
    "\n",
    "finally:\n",
    "    if db is not None:\n",
    "        db.close()"
   ]
  },
  {
   "cell_type": "code",
   "execution_count": 18,
   "id": "8d853126",
   "metadata": {},
   "outputs": [],
   "source": [
    "# 데이터 변경\n",
    "db = None\n",
    "try:\n",
    "    db = pymysql.connect(host=\"127.0.0.1\", user=\"root\", passwd=\"sinabro\", db=\"chatbot_test\", charset=\"utf8\")\n",
    "    \n",
    "    # 데이터 수정 sql 정의\n",
    "    id = 1\n",
    "    sql = \"\"\"\n",
    "    UPDATE tb_student set name=\"케이\", age=36 where id=%d\n",
    "    \"\"\" % id\n",
    "    \n",
    "    # 데이터 수정\n",
    "    with db.cursor() as cursor:\n",
    "        cursor.execute(sql)\n",
    "    db.commit()\n",
    "\n",
    "except Exception as e:\n",
    "    print(e)\n",
    "\n",
    "finally:\n",
    "    if db is not None:\n",
    "        db.close()"
   ]
  },
  {
   "cell_type": "code",
   "execution_count": 19,
   "id": "eb0a4e28",
   "metadata": {},
   "outputs": [],
   "source": [
    "# 데이터 삭제\n",
    "db = None\n",
    "try:\n",
    "    db = pymysql.connect(host=\"127.0.0.1\", user=\"root\", passwd=\"sinabro\", db=\"chatbot_test\", charset=\"utf8\")\n",
    "    \n",
    "    # 데이터 삭제 sql 정의\n",
    "    id = 1\n",
    "    sql = \"\"\"\n",
    "    DELETE from tb_student where id=%d\n",
    "    \"\"\" % id\n",
    "    \n",
    "    # 데이터 삭제\n",
    "    with db.cursor() as cursor:\n",
    "        cursor.execute(sql)\n",
    "    db.commit()\n",
    "\n",
    "except Exception as e:\n",
    "    print(e)\n",
    "\n",
    "finally:\n",
    "    if db is not None:\n",
    "        db.close()"
   ]
  },
  {
   "cell_type": "code",
   "execution_count": 23,
   "id": "ca950726",
   "metadata": {
    "scrolled": true
   },
   "outputs": [
    {
     "name": "stdout",
     "output_type": "stream",
     "text": [
      "[{'id': 2, 'name': 'Kei', 'age': 36, 'address': 'PUSAN'}, {'id': 3, 'name': 'Tony', 'age': 34, 'address': 'PUSAN'}, {'id': 4, 'name': 'Jaeyoo', 'age': 39, 'address': 'GWANGJU'}]\n",
      "Grace 28\n",
      "   id    name  age  address\n",
      "0   2     Kei   36    PUSAN\n",
      "1   3    Tony   34    PUSAN\n",
      "2   4  Jaeyoo   39  GWANGJU\n",
      "db가 닫혔습니다.\n"
     ]
    }
   ],
   "source": [
    "# 데이터 조회\n",
    "import pymysql\n",
    "import pandas as pd\n",
    "\n",
    "db = None\n",
    "try:\n",
    "    db = pymysql.connect(host=\"127.0.0.1\", user=\"root\", passwd=\"sinabro\", db=\"chatbot_test\", charset=\"utf8\")\n",
    "    \n",
    "    # 데이터 db에 추가\n",
    "    students = [\n",
    "        {\"name\": \"Kei\", \"age\": 36, \"address\": \"PUSAN\"},\n",
    "        {\"name\": \"Tony\", \"age\": 34, \"address\": \"PUSAN\"},\n",
    "        {\"name\": \"Jaeyoo\", \"age\": 39, \"address\": \"GWANGJU\"},\n",
    "        {\"name\": \"Grace\", \"age\": 28, \"address\": \"SEOUL\"},\n",
    "        {\"name\": \"Jenny\", \"age\": 27, \"address\": \"SEOUL\"},\n",
    "    ]\n",
    "    \n",
    "    for s in students:\n",
    "        with db.cursor() as cursor:\n",
    "            sql = \"\"\"\n",
    "            INSERT tb_student(name, age, address) values(\"%s\", %d, \"%s\")\n",
    "            \"\"\" % (s[\"name\"], s[\"age\"], s[\"address\"])\n",
    "            cursor.execute(sql)\n",
    "    db.commit()\n",
    "    \n",
    "    # 30대 학생만 조회\n",
    "    cond_age = 30\n",
    "    with db.cursor(pymysql.cursors.DictCursor) as cursor:\n",
    "        sql = \"\"\"\n",
    "        SELECT * from tb_student where age > %d\n",
    "        \"\"\" % cond_age\n",
    "        cursor.execute(sql)\n",
    "        results = cursor.fetchall()\n",
    "    print(results)\n",
    "    \n",
    "    # 이름 검색\n",
    "    cond_name = \"Grace\"\n",
    "    with db.cursor(pymysql.cursors.DictCursor) as cursor:\n",
    "        sql = \"\"\"\n",
    "        SELECT * from tb_student where name=\"%s\"\n",
    "        \"\"\" % cond_name\n",
    "        cursor.execute(sql)\n",
    "        result = cursor.fetchone()\n",
    "    print(result[\"name\"], result[\"age\"])\n",
    "    \n",
    "    # pandas 데이터프레임으로 표현\n",
    "    df = pd.DataFrame(results)\n",
    "    print(df)\n",
    "\n",
    "except Exception as e:\n",
    "    print(e)\n",
    "\n",
    "finally:\n",
    "    if db is not None:\n",
    "        db.close()\n",
    "        print(\"db가 닫혔습니다.\")"
   ]
  }
 ],
 "metadata": {
  "kernelspec": {
   "display_name": "Python 3 (ipykernel)",
   "language": "python",
   "name": "python3"
  },
  "language_info": {
   "codemirror_mode": {
    "name": "ipython",
    "version": 3
   },
   "file_extension": ".py",
   "mimetype": "text/x-python",
   "name": "python",
   "nbconvert_exporter": "python",
   "pygments_lexer": "ipython3",
   "version": "3.7.10"
  }
 },
 "nbformat": 4,
 "nbformat_minor": 5
}
