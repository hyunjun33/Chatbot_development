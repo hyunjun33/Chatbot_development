{
 "cells": [
  {
   "cell_type": "code",
   "execution_count": 3,
   "id": "fdb29a5d",
   "metadata": {},
   "outputs": [],
   "source": [
    "import pymysql\n",
    "from config.DatabaseConfig import *\n",
    "\n",
    "db = None\n",
    "try:\n",
    "    db = pymysql.connect(host=DB_HOST, user=DB_USER, passwd=DB_PASSWORD, db=DB_NAME, charset=\"utf8\")\n",
    "    \n",
    "    # 테이블 생성 sql 정의\n",
    "    sql = \"\"\"\n",
    "    CREATE TABLE IF NOT EXISTS `chatbot_train_data` (\n",
    "    `id` INT UNSIGNED NOT NULL AUTO_INCREMENT,\n",
    "    `intent` VARCHAR(45) NULL,\n",
    "    `ner` VARCHAR(1024) NULL,\n",
    "    `query` TEXT NULL,\n",
    "    `answer` TEXT NOT NULL,\n",
    "    `answer_image` VARCHAR(2048) NULL,\n",
    "    PRIMARY KEY (`id`))\n",
    "    ENGINE = InnoDB DEFAULT CHARSET=utf8 \n",
    "    \"\"\"\n",
    "    \n",
    "    # 테이블 생성\n",
    "    with db.cursor() as cursor:\n",
    "        cursor.execute(sql)\n",
    "\n",
    "except Exception as e:\n",
    "    print(e)\n",
    "\n",
    "finally:\n",
    "    if db is not None:\n",
    "        db.close()"
   ]
  }
 ],
 "metadata": {
  "kernelspec": {
   "display_name": "Python 3 (ipykernel)",
   "language": "python",
   "name": "python3"
  },
  "language_info": {
   "codemirror_mode": {
    "name": "ipython",
    "version": 3
   },
   "file_extension": ".py",
   "mimetype": "text/x-python",
   "name": "python",
   "nbconvert_exporter": "python",
   "pygments_lexer": "ipython3",
   "version": "3.7.10"
  }
 },
 "nbformat": 4,
 "nbformat_minor": 5
}
