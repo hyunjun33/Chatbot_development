{
 "cells": [
  {
   "cell_type": "code",
   "execution_count": 1,
   "id": "833302a6",
   "metadata": {},
   "outputs": [],
   "source": [
    "import pymysql\n",
    "import openpyxl\n",
    "\n",
    "from config.DatabaseConfig import *"
   ]
  },
  {
   "cell_type": "code",
   "execution_count": 6,
   "id": "6d98b427",
   "metadata": {},
   "outputs": [],
   "source": [
    "# 학습 데이터 초기화\n",
    "def all_clear_train_data(db):\n",
    "    # 기존 학습 데이터 삭제\n",
    "    sql = \"\"\"\n",
    "    DELETE from chatbot_train_data\n",
    "    \"\"\"\n",
    "    with db.cursor() as cursor:\n",
    "        cursor.execute(sql)\n",
    "    \n",
    "    # auto increment 초기화\n",
    "    sql = \"\"\"\n",
    "    ALTER TABLE chatbot_train_data AUTO_INCREMENT=1\n",
    "    \"\"\"\n",
    "    with db.cursor() as cursor:\n",
    "        cursor.execute(sql)"
   ]
  },
  {
   "cell_type": "code",
   "execution_count": 7,
   "id": "4ccd56f3",
   "metadata": {},
   "outputs": [],
   "source": [
    "# db에 데이터 저장\n",
    "def insert_data(db, xls_row):\n",
    "    intent, ner, query, answer, answer_img_url = xls_row\n",
    "    \n",
    "    sql = \"\"\"\n",
    "    INSERT chatbot_train_data(intent, ner, query, answer, answer_image)\n",
    "    values(\"%s\", \"%s\", \"%s\", \"%s\", \"%s\")\n",
    "    \"\"\" % (intent.value, ner.value, query.value, answer.value, answer_img_url.value)\n",
    "\n",
    "    # 엑셀에서 불러온 cell에 데이터가 없는 경우 null로 치환\n",
    "    sql = sql.replace(\"'None'\", \"null\")\n",
    "    \n",
    "    with db.cursor() as cursor:\n",
    "        cursor.execute(sql)\n",
    "        print(\"{} 저장\".format(query.value))\n",
    "        db.commit()"
   ]
  },
  {
   "cell_type": "code",
   "execution_count": 8,
   "id": "b25fc15f",
   "metadata": {},
   "outputs": [
    {
     "name": "stdout",
     "output_type": "stream",
     "text": [
      "안녕하세요 저장\n",
      "반가워요 저장\n",
      "{B_FOOD} 주문할게요 저장\n",
      "{B_FOOD} 주문할게요 저장\n",
      "{B_DT} 예약 저장\n",
      "None 저장\n"
     ]
    }
   ],
   "source": [
    "train_file = \"./train_data.xlsx\"\n",
    "db = None\n",
    "try:\n",
    "    db = pymysql.connect(host=DB_HOST, user=DB_USER, passwd=DB_PASSWORD, db=DB_NAME, charset=\"utf8\")\n",
    "    \n",
    "    # 기존 학습 데이터 초기화\n",
    "    all_clear_train_data(db)\n",
    "    \n",
    "    # 학습 엑셀 파일 불러오기\n",
    "    wb = openpyxl.load_workbook(train_file)\n",
    "    sheet = wb[\"Sheet1\"]\n",
    "    for row in sheet.iter_rows(min_row=2): # 헤더는 불러오지 않는다.\n",
    "        # 데이터 저장\n",
    "        insert_data(db, row)\n",
    "    \n",
    "    wb.close()\n",
    "    \n",
    "except Exception as e:\n",
    "    print(e)\n",
    "\n",
    "finally:\n",
    "    if db is not None:\n",
    "        db.close()"
   ]
  }
 ],
 "metadata": {
  "kernelspec": {
   "display_name": "Python 3 (ipykernel)",
   "language": "python",
   "name": "python3"
  },
  "language_info": {
   "codemirror_mode": {
    "name": "ipython",
    "version": 3
   },
   "file_extension": ".py",
   "mimetype": "text/x-python",
   "name": "python",
   "nbconvert_exporter": "python",
   "pygments_lexer": "ipython3",
   "version": "3.7.10"
  }
 },
 "nbformat": 4,
 "nbformat_minor": 5
}
